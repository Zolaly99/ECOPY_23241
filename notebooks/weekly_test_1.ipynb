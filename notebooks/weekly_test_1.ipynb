{
 "cells": [
  {
   "cell_type": "markdown",
   "source": [
    "##### A feladatok megoldását mentse src/weekly modul-ba a weekly_test_1.py nevű fájlba\n",
    "###### A fájlba kommentként írd be a Neptun kódodat"
   ],
   "metadata": {
    "collapsed": false
   },
   "id": "a8cbfcd702b3de5"
  },
  {
   "cell_type": "code",
   "execution_count": null,
   "outputs": [],
   "source": [
    "#Neptun-kód: ZALLWZ"
   ],
   "metadata": {
    "collapsed": false
   },
   "id": "7570820639b84ca8"
  },
  {
   "cell_type": "code",
   "execution_count": null,
   "outputs": [],
   "source": [
    "# 1., Írjon egy függvényt ami vissza adja a bemeneti lista páros elemeit\n",
    "# függvény név: evens_from_list\n",
    "# bemeneti paraméterek: input_list \n",
    "# kimeneti típus: List "
   ],
   "metadata": {
    "collapsed": false
   },
   "id": "7675f2ea543b3407"
  },
  {
   "cell_type": "code",
   "execution_count": 2,
   "outputs": [],
   "source": [
    "def evens_from_list(input_list):\n",
    "    dummy=input_list.copy()\n",
    "    for i in range(len(input_list)):\n",
    "        if input_list[i] % 2 == 1:\n",
    "            dummy[i] = \"Not even\"\n",
    "    \n",
    "    dummy = [value for value in dummy if value != \"Not even\"]\n",
    "    return dummy"
   ],
   "metadata": {
    "collapsed": false,
    "ExecuteTime": {
     "end_time": "2023-09-20T17:13:33.271696800Z",
     "start_time": "2023-09-20T17:13:33.267216100Z"
    }
   },
   "id": "249bcda88ef6bb9a"
  },
  {
   "cell_type": "code",
   "execution_count": 6,
   "outputs": [],
   "source": [
    "list_2 = [1,2,3, 6, 7, 8, 9, 10]"
   ],
   "metadata": {
    "collapsed": false,
    "ExecuteTime": {
     "end_time": "2023-09-20T17:13:59.692767Z",
     "start_time": "2023-09-20T17:13:59.620756800Z"
    }
   },
   "id": "d7595a49d9eb729f"
  },
  {
   "cell_type": "code",
   "execution_count": 7,
   "outputs": [
    {
     "data": {
      "text/plain": "[2, 6, 8, 10]"
     },
     "execution_count": 7,
     "metadata": {},
     "output_type": "execute_result"
    }
   ],
   "source": [
    "evens_from_list(list_2)"
   ],
   "metadata": {
    "collapsed": false,
    "ExecuteTime": {
     "end_time": "2023-09-20T17:14:00.509601400Z",
     "start_time": "2023-09-20T17:14:00.490430800Z"
    }
   },
   "id": "a0472f43f4c0e830"
  },
  {
   "cell_type": "code",
   "execution_count": null,
   "outputs": [],
   "source": [
    "# 2., Írjon egy függvényt ami megvizsgálja, hogy a listában minden elem páratlan-e\n",
    "# függvény név: every_element_is_odd\n",
    "# bemeneti paraméterek: input_list \n",
    "# kimeneti típus: bool "
   ],
   "metadata": {
    "collapsed": false
   },
   "id": "initial_id"
  },
  {
   "cell_type": "code",
   "execution_count": 15,
   "outputs": [],
   "source": [
    "def every_element_is_odd(input_list):\n",
    "    count_ = 0\n",
    "    for i in range(len(input_list)):\n",
    "        if input_list[i] % 2 == 0:\n",
    "            count_ += 1\n",
    "        else:\n",
    "            count_ += 0\n",
    "    \n",
    "    if count_ == 0:\n",
    "        return True\n",
    "    else:\n",
    "        return False"
   ],
   "metadata": {
    "collapsed": false,
    "ExecuteTime": {
     "end_time": "2023-09-20T17:16:35.525961Z",
     "start_time": "2023-09-20T17:16:35.481010500Z"
    }
   },
   "id": "f403d1a38951a2e5"
  },
  {
   "cell_type": "code",
   "execution_count": 19,
   "outputs": [],
   "source": [
    "list3 = [1, 3, 5, 7, 9, 11, 12]"
   ],
   "metadata": {
    "collapsed": false,
    "ExecuteTime": {
     "end_time": "2023-09-20T17:17:03.342327400Z",
     "start_time": "2023-09-20T17:17:03.322810800Z"
    }
   },
   "id": "c7c0e6dc0aa1e273"
  },
  {
   "cell_type": "code",
   "execution_count": null,
   "outputs": [],
   "source": [
    "every_element_is_odd(list3)"
   ],
   "metadata": {
    "collapsed": false
   },
   "id": "ac8789eea124ea60"
  },
  {
   "cell_type": "code",
   "execution_count": null,
   "outputs": [],
   "source": [
    "# 3., Írjon egy függvényt ami visszaadja a k. legnagyobb elemet listában \n",
    "# függvény név: kth_largest_in_list\n",
    "# bemeneti paraméterek: input_list, kth_largest\n",
    "# kimeneti típus: int "
   ],
   "metadata": {
    "collapsed": false
   },
   "id": "884e2710a259cb85"
  },
  {
   "cell_type": "code",
   "execution_count": 69,
   "outputs": [],
   "source": [
    "def kth_largest_in_list(input_list, kth_largest):\n",
    "    input_list.sort()\n",
    "    return input_list[len(input_list)-kth_largest]"
   ],
   "metadata": {
    "collapsed": false,
    "ExecuteTime": {
     "end_time": "2023-09-20T18:08:25.301084600Z",
     "start_time": "2023-09-20T18:08:25.275581800Z"
    }
   },
   "id": "af9f705a9b8115f"
  },
  {
   "cell_type": "code",
   "execution_count": 75,
   "outputs": [
    {
     "data": {
      "text/plain": "1"
     },
     "execution_count": 75,
     "metadata": {},
     "output_type": "execute_result"
    }
   ],
   "source": [
    "kth_largest_in_list(list4, 4)"
   ],
   "metadata": {
    "collapsed": false,
    "ExecuteTime": {
     "end_time": "2023-09-20T18:08:53.522535100Z",
     "start_time": "2023-09-20T18:08:53.494045100Z"
    }
   },
   "id": "5a4c2a396921bf8d"
  },
  {
   "cell_type": "code",
   "execution_count": 71,
   "outputs": [
    {
     "data": {
      "text/plain": "[1, 2, 3, 4]"
     },
     "execution_count": 71,
     "metadata": {},
     "output_type": "execute_result"
    }
   ],
   "source": [
    "list4"
   ],
   "metadata": {
    "collapsed": false,
    "ExecuteTime": {
     "end_time": "2023-09-20T18:08:42.540182400Z",
     "start_time": "2023-09-20T18:08:42.519935100Z"
    }
   },
   "id": "277223f9a14abe0e"
  },
  {
   "cell_type": "code",
   "execution_count": null,
   "outputs": [],
   "source": [
    "# 4., Írjon egy függvényt ami kiszámítja a lista elemek gördülő átlagát\n",
    "# függvény név: cumavg_list\n",
    "# bemeneti paraméterek: input_list \n",
    "# kimeneti típus: List "
   ],
   "metadata": {
    "collapsed": false
   },
   "id": "8021cc1853d79c8"
  },
  {
   "cell_type": "code",
   "execution_count": 48,
   "outputs": [],
   "source": [
    "def cumavg_list(input_list):\n",
    "    cumavg = [None]*len(input_list)\n",
    "    for i in range(len(input_list)):\n",
    "        cumavg[i] = sum(input_list[0:(i+1)])/(i+1)\n",
    "    \n",
    "    return cumavg"
   ],
   "metadata": {
    "collapsed": false,
    "ExecuteTime": {
     "end_time": "2023-09-20T17:26:48.687515400Z",
     "start_time": "2023-09-20T17:26:48.665813600Z"
    }
   },
   "id": "daaf96e64591ad37"
  },
  {
   "cell_type": "code",
   "execution_count": 49,
   "outputs": [
    {
     "data": {
      "text/plain": "[1.0, 1.5, 2.0, 3.0, 3.8, 4.5, 5.142857142857143, 5.75]"
     },
     "execution_count": 49,
     "metadata": {},
     "output_type": "execute_result"
    }
   ],
   "source": [
    "cumavg_list(list_2)"
   ],
   "metadata": {
    "collapsed": false,
    "ExecuteTime": {
     "end_time": "2023-09-20T17:26:49.650977200Z",
     "start_time": "2023-09-20T17:26:49.643761Z"
    }
   },
   "id": "185383fff68901dc"
  },
  {
   "cell_type": "code",
   "execution_count": null,
   "outputs": [],
   "source": [
    "# 5., Írjon egy függvényt ami kiszámítja 2 lista elemenként vett szorzatát\n",
    "# függvény név: element_wise_multiplication\n",
    "# bemeneti paraméterek: input_list1, input_list2 \n",
    "# kimeneti típus: List "
   ],
   "metadata": {
    "collapsed": false
   },
   "id": "323feea145ed36b4"
  },
  {
   "cell_type": "code",
   "execution_count": 76,
   "outputs": [],
   "source": [
    "def element_wise_sum(input_list1, input_list2):\n",
    "    x = [None]*len(input_list1)\n",
    "    for i in range(len(input_list1)):\n",
    "        x[i]=input_list1[i]*input_list2[i]\n",
    "\n",
    "    return x"
   ],
   "metadata": {
    "collapsed": false,
    "ExecuteTime": {
     "end_time": "2023-09-20T18:10:11.435991300Z",
     "start_time": "2023-09-20T18:10:11.422333100Z"
    }
   },
   "id": "ce2d7d79deff3706"
  },
  {
   "cell_type": "code",
   "execution_count": 77,
   "outputs": [],
   "source": [
    "list4 = [1, 2, 3, 4]\n",
    "list5 = [3, 2, 2, 6]"
   ],
   "metadata": {
    "collapsed": false,
    "ExecuteTime": {
     "end_time": "2023-09-20T18:10:14.004209800Z",
     "start_time": "2023-09-20T18:10:13.989700400Z"
    }
   },
   "id": "ebd13f4ae35f84eb"
  },
  {
   "cell_type": "code",
   "execution_count": 25,
   "outputs": [
    {
     "data": {
      "text/plain": "[3, 4, 6, 24]"
     },
     "execution_count": 25,
     "metadata": {},
     "output_type": "execute_result"
    }
   ],
   "source": [
    "element_wise_sum(list4, list5)"
   ],
   "metadata": {
    "collapsed": false,
    "ExecuteTime": {
     "end_time": "2023-09-20T18:03:00.751686400Z",
     "start_time": "2023-09-20T18:03:00.740686200Z"
    }
   },
   "id": "17895cf5a7be6446"
  },
  {
   "cell_type": "code",
   "execution_count": null,
   "outputs": [],
   "source": [],
   "metadata": {
    "collapsed": false
   },
   "id": "6674291fd3503469"
  },
  {
   "cell_type": "code",
   "execution_count": null,
   "outputs": [],
   "source": [
    "# 6., Írjon egy függvényt amely összekapcsol n listát 1 listába\n",
    "# függvény név: merge_lists\n",
    "# bemeneti paraméterek: *lists\n",
    "# kimeneti típus: List "
   ],
   "metadata": {
    "collapsed": false
   },
   "id": "d1dc000ed96cff44"
  },
  {
   "cell_type": "code",
   "execution_count": 21,
   "outputs": [],
   "source": [
    "def merge_lists(*lists):\n",
    "    dummylist = list()\n",
    "   \n",
    "    dummylist = list(zip(lists))\n",
    "        \n",
    "    return dummylist\n",
    "    "
   ],
   "metadata": {
    "collapsed": false,
    "ExecuteTime": {
     "end_time": "2023-09-20T18:01:36.710949300Z",
     "start_time": "2023-09-20T18:01:36.674848500Z"
    }
   },
   "id": "c4af23267ba36eec"
  },
  {
   "cell_type": "code",
   "execution_count": 81,
   "outputs": [],
   "source": [
    "def merge_lists(*lists):\n",
    "    dummylist = list()\n",
    "    \n",
    "    dummylist = list(itertools.chain(lists))\n",
    "\n",
    "    return dummylist"
   ],
   "metadata": {
    "collapsed": false,
    "ExecuteTime": {
     "end_time": "2023-09-20T18:14:55.988130900Z",
     "start_time": "2023-09-20T18:14:55.943198800Z"
    }
   },
   "id": "8940c2a148b3c482"
  },
  {
   "cell_type": "code",
   "execution_count": 82,
   "outputs": [
    {
     "data": {
      "text/plain": "[[1, 2, 3, 4], [3, 2, 2, 6]]"
     },
     "execution_count": 82,
     "metadata": {},
     "output_type": "execute_result"
    }
   ],
   "source": [
    "merge_lists(list4, list5)"
   ],
   "metadata": {
    "collapsed": false,
    "ExecuteTime": {
     "end_time": "2023-09-20T18:14:57.303768800Z",
     "start_time": "2023-09-20T18:14:57.290725100Z"
    }
   },
   "id": "945f3c3402f77305"
  },
  {
   "cell_type": "code",
   "execution_count": null,
   "outputs": [],
   "source": [],
   "metadata": {
    "collapsed": false
   },
   "id": "c1968d6f4da25bf5"
  },
  {
   "cell_type": "code",
   "execution_count": 86,
   "outputs": [],
   "source": [
    "def merge_lists(*lists):\n",
    "    return [item for sublist in lists for item in sublist]"
   ],
   "metadata": {
    "collapsed": false,
    "ExecuteTime": {
     "end_time": "2023-09-20T18:16:22.163799900Z",
     "start_time": "2023-09-20T18:16:22.128747800Z"
    }
   },
   "id": "6104aaa382abe6da"
  },
  {
   "cell_type": "code",
   "execution_count": 87,
   "outputs": [
    {
     "data": {
      "text/plain": "[1, 2, 3, 4, 3, 2, 2, 6]"
     },
     "execution_count": 87,
     "metadata": {},
     "output_type": "execute_result"
    }
   ],
   "source": [
    "flatten(list4, list5)"
   ],
   "metadata": {
    "collapsed": false,
    "ExecuteTime": {
     "end_time": "2023-09-20T18:16:24.916284400Z",
     "start_time": "2023-09-20T18:16:24.895195800Z"
    }
   },
   "id": "71f6fb13a45f904d"
  },
  {
   "cell_type": "code",
   "execution_count": 78,
   "outputs": [
    {
     "data": {
      "text/plain": "['it', 'was', 'annoying']"
     },
     "execution_count": 78,
     "metadata": {},
     "output_type": "execute_result"
    }
   ],
   "source": [
    "import itertools\n",
    "ab = itertools.chain(['it'], ['was'], ['annoying'])\n",
    "list(ab)"
   ],
   "metadata": {
    "collapsed": false,
    "ExecuteTime": {
     "end_time": "2023-09-20T18:13:55.518780700Z",
     "start_time": "2023-09-20T18:13:55.508781800Z"
    }
   },
   "id": "8d448e62dfc5b6e8"
  },
  {
   "cell_type": "code",
   "execution_count": 22,
   "outputs": [
    {
     "data": {
      "text/plain": "[([1, 2, 3, 4],), ([3, 2, 2, 6],)]"
     },
     "execution_count": 22,
     "metadata": {},
     "output_type": "execute_result"
    }
   ],
   "source": [
    "merge_lists(list4, list5)"
   ],
   "metadata": {
    "collapsed": false,
    "ExecuteTime": {
     "end_time": "2023-09-20T18:01:40.359051600Z",
     "start_time": "2023-09-20T18:01:40.345916400Z"
    }
   },
   "id": "f1480710f296f984"
  },
  {
   "cell_type": "code",
   "execution_count": 9,
   "outputs": [
    {
     "data": {
      "text/plain": "<zip at 0x1a6adbeec00>"
     },
     "execution_count": 9,
     "metadata": {},
     "output_type": "execute_result"
    }
   ],
   "source": [
    "zip(list4, list5)"
   ],
   "metadata": {
    "collapsed": false,
    "ExecuteTime": {
     "end_time": "2023-09-20T17:59:37.514865100Z",
     "start_time": "2023-09-20T17:59:37.474431800Z"
    }
   },
   "id": "8f8e0945fc3955db"
  },
  {
   "cell_type": "code",
   "execution_count": null,
   "outputs": [],
   "source": [
    "# 7., Írjon egy függvényt amely visszaadja a lista páratlan elemeinek a négyzetét\n",
    "# függvény név: squared_odds\n",
    "# bemeneti paraméterek: input_list\n",
    "# kimeneti típus: List "
   ],
   "metadata": {
    "collapsed": false
   },
   "id": "2841a2374dec25f5"
  },
  {
   "cell_type": "code",
   "execution_count": 67,
   "outputs": [],
   "source": [
    "def squared_odds(input_list):\n",
    "    \n",
    "    oddlist = [value for value in input_list if value % 2 == 1]\n",
    "    \n",
    "    for i in range(len(oddlist)):\n",
    "        oddlist[i] = oddlist[i]*oddlist[i]\n",
    "    \n",
    "    return oddlist"
   ],
   "metadata": {
    "collapsed": false,
    "ExecuteTime": {
     "end_time": "2023-09-20T17:33:29.192459100Z",
     "start_time": "2023-09-20T17:33:29.173437Z"
    }
   },
   "id": "96beb0cb1de4283d"
  },
  {
   "cell_type": "code",
   "execution_count": 4,
   "outputs": [
    {
     "ename": "NameError",
     "evalue": "name 'squared_odds' is not defined",
     "output_type": "error",
     "traceback": [
      "\u001B[1;31m---------------------------------------------------------------------------\u001B[0m",
      "\u001B[1;31mNameError\u001B[0m                                 Traceback (most recent call last)",
      "Cell \u001B[1;32mIn[4], line 1\u001B[0m\n\u001B[1;32m----> 1\u001B[0m \u001B[43msquared_odds\u001B[49m(list_2)\n",
      "\u001B[1;31mNameError\u001B[0m: name 'squared_odds' is not defined"
     ]
    }
   ],
   "source": [
    "squared_odds(list_2)"
   ],
   "metadata": {
    "collapsed": false,
    "ExecuteTime": {
     "end_time": "2023-09-20T17:56:37.161096800Z",
     "start_time": "2023-09-20T17:56:37.150925Z"
    }
   },
   "id": "23caa98600146465"
  },
  {
   "cell_type": "code",
   "execution_count": null,
   "outputs": [],
   "source": [
    "# 8., Írjon egy függvényt amely a fordítottan sorba rendezi a kulcs-érték párokat a kulcs értéke szerint egy dictionary-ben\n",
    "# függvény név: reverse_sort_by_key\n",
    "# bemeneti paraméterek: input_dict\n",
    "# kimeneti típus: Dict "
   ],
   "metadata": {
    "collapsed": false
   },
   "id": "12e757ffc972f77a"
  },
  {
   "cell_type": "code",
   "execution_count": 71,
   "outputs": [],
   "source": [
    "def reverse_sort_by_key(input_dict):\n",
    "    return dict(sorted(input_dict.items(), reverse = True))"
   ],
   "metadata": {
    "collapsed": false,
    "ExecuteTime": {
     "end_time": "2023-09-20T17:35:43.106203100Z",
     "start_time": "2023-09-20T17:35:43.009203400Z"
    }
   },
   "id": "e9a710de823bd229"
  },
  {
   "cell_type": "code",
   "execution_count": 72,
   "outputs": [],
   "source": [
    "thisdict3 = {\n",
    "  \"c\": 90,\n",
    "  \"d\": [121, 'e'],\n",
    "  \"h\": \"xy\"\n",
    "}"
   ],
   "metadata": {
    "collapsed": false,
    "ExecuteTime": {
     "end_time": "2023-09-20T17:36:14.322009Z",
     "start_time": "2023-09-20T17:36:14.293635100Z"
    }
   },
   "id": "e566b85e382d428d"
  },
  {
   "cell_type": "code",
   "execution_count": 73,
   "outputs": [
    {
     "data": {
      "text/plain": "{'h': 'xy', 'd': [121, 'e'], 'c': 90}"
     },
     "execution_count": 73,
     "metadata": {},
     "output_type": "execute_result"
    }
   ],
   "source": [
    "reverse_sort_by_key(thisdict3)"
   ],
   "metadata": {
    "collapsed": false,
    "ExecuteTime": {
     "end_time": "2023-09-20T17:36:23.890658300Z",
     "start_time": "2023-09-20T17:36:23.852223300Z"
    }
   },
   "id": "505a646a311497a3"
  },
  {
   "cell_type": "code",
   "execution_count": null,
   "outputs": [],
   "source": [
    "# 9., Írjon egy függvényt amely a bemeneti, pozitív egész számokat tartalmazó listát kiválogatja 2-vel, 5-el, 2-vel és 5-el, és egyikkel sem osztható számokat, és visszaad egy olyan dictionary-t, amelyben a kulcsok a 'by_two', 'by_five', 'by_two_and_five', és a 'by_none', az értékek, pedig a listák. (2 pont)\n",
    "# függvény név: sort_list_by_divisibility\n",
    "# bemeneti paraméterek: input_list\n",
    "# kimeneti típus: Dict "
   ],
   "metadata": {
    "collapsed": false
   },
   "id": "58dc0ff752928e36"
  },
  {
   "cell_type": "code",
   "execution_count": 1,
   "outputs": [],
   "source": [
    "def sort_list_by_divisibility(input_list):\n",
    "    superdict = dict()\n",
    "    by_two_and_five = list()\n",
    "    by_two = list()\n",
    "    by_five = list()\n",
    "    by_none = list()\n",
    "    for i in range(len(input_list)):\n",
    "     \n",
    "        if input_list[i] % 10 == 0:\n",
    "            by_two_and_five.append(input_list[i])\n",
    "        else:\n",
    "            if input_list[i] % 5 == 0:\n",
    "                by_five.append(input_list[i]) \n",
    "            else:\n",
    "                if input_list[i] % 2 == 0:\n",
    "                    by_two.append(input_list[i])\n",
    "                else:\n",
    "                    by_none.append(input_list[i])\n",
    "                    \n",
    "    superdict = {\n",
    "        \"by_two\": by_two,\n",
    "        \"by_five\": by_five,\n",
    "        \"by_two_and_five\": by_two_and_five,\n",
    "        \"by_none\": by_none\n",
    "    }\n",
    "    \n",
    "    return superdict\n",
    "    \n",
    "                \n",
    "                \n",
    "        "
   ],
   "metadata": {
    "collapsed": false,
    "ExecuteTime": {
     "end_time": "2023-09-20T17:56:17.714512900Z",
     "start_time": "2023-09-20T17:56:17.679553Z"
    }
   },
   "id": "d62344d106bd25ab"
  },
  {
   "cell_type": "code",
   "execution_count": 8,
   "outputs": [
    {
     "data": {
      "text/plain": "{'by_two': [2, 4, 6, 8],\n 'by_five': [5],\n 'by_two_and_five': [0, 10],\n 'by_none': [1, 3, 7, 9]}"
     },
     "execution_count": 8,
     "metadata": {},
     "output_type": "execute_result"
    }
   ],
   "source": [
    "sort_list_by_divisibility(list6)"
   ],
   "metadata": {
    "collapsed": false,
    "ExecuteTime": {
     "end_time": "2023-09-20T17:57:14.055200500Z",
     "start_time": "2023-09-20T17:57:13.984978200Z"
    }
   },
   "id": "4dc12112d99a1b81"
  },
  {
   "cell_type": "code",
   "execution_count": 11,
   "outputs": [],
   "source": [
    "list6 = [0, 1, 2, 3, 4, 5, 6, 7, 8, 9, 10]"
   ],
   "metadata": {
    "collapsed": false,
    "ExecuteTime": {
     "end_time": "2023-09-20T18:00:04.308846500Z",
     "start_time": "2023-09-20T18:00:04.299330Z"
    }
   },
   "id": "157ca581056654f7"
  },
  {
   "cell_type": "code",
   "execution_count": 12,
   "outputs": [
    {
     "data": {
      "text/plain": "[1, 2, 3, 4]"
     },
     "execution_count": 12,
     "metadata": {},
     "output_type": "execute_result"
    }
   ],
   "source": [
    "list4"
   ],
   "metadata": {
    "collapsed": false,
    "ExecuteTime": {
     "end_time": "2023-09-20T18:00:12.764297800Z",
     "start_time": "2023-09-20T18:00:12.648844700Z"
    }
   },
   "id": "84a31313f280d796"
  },
  {
   "cell_type": "code",
   "execution_count": 13,
   "outputs": [
    {
     "ename": "NameError",
     "evalue": "name 'merge_lists' is not defined",
     "output_type": "error",
     "traceback": [
      "\u001B[1;31m---------------------------------------------------------------------------\u001B[0m",
      "\u001B[1;31mNameError\u001B[0m                                 Traceback (most recent call last)",
      "Cell \u001B[1;32mIn[13], line 1\u001B[0m\n\u001B[1;32m----> 1\u001B[0m \u001B[43mmerge_lists\u001B[49m(list4, list6)\n",
      "\u001B[1;31mNameError\u001B[0m: name 'merge_lists' is not defined"
     ]
    }
   ],
   "source": [
    "merge_lists(list4, list6)"
   ],
   "metadata": {
    "collapsed": false,
    "ExecuteTime": {
     "end_time": "2023-09-20T18:00:28.908967100Z",
     "start_time": "2023-09-20T18:00:28.725585500Z"
    }
   },
   "id": "858b60bdc233a6b2"
  },
  {
   "cell_type": "markdown",
   "source": [],
   "metadata": {
    "collapsed": false
   },
   "id": "5cd8425a4c82d297"
  },
  {
   "cell_type": "markdown",
   "source": [],
   "metadata": {
    "collapsed": false
   },
   "id": "c0cd37813169932a"
  }
 ],
 "metadata": {
  "kernelspec": {
   "display_name": "Python 3",
   "language": "python",
   "name": "python3"
  },
  "language_info": {
   "codemirror_mode": {
    "name": "ipython",
    "version": 2
   },
   "file_extension": ".py",
   "mimetype": "text/x-python",
   "name": "python",
   "nbconvert_exporter": "python",
   "pygments_lexer": "ipython2",
   "version": "2.7.6"
  }
 },
 "nbformat": 4,
 "nbformat_minor": 5
}
